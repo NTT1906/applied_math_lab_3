{
 "cells": [
  {
   "cell_type": "markdown",
   "metadata": {},
   "source": [
    "# Project 02 - Image Processing"
   ]
  },
  {
   "cell_type": "markdown",
   "metadata": {},
   "source": [
    "## Thông tin sinh viên"
   ]
  },
  {
   "cell_type": "markdown",
   "metadata": {},
   "source": [
    "- Họ và tên: Nguyễn Thọ Tài\n",
    "- MSSV: 23127255\n",
    "- Lớp: 23CLC02"
   ]
  },
  {
   "cell_type": "markdown",
   "metadata": {},
   "source": [
    "## Import các thư viện liên quan"
   ]
  },
  {
   "cell_type": "code",
   "metadata": {
    "ExecuteTime": {
     "end_time": "2025-07-15T01:08:06.475348Z",
     "start_time": "2025-07-15T01:08:01.901423Z"
    }
   },
   "source": [
    "!python -m pip install matplotlib\n",
    "!python -m pip install numpy\n",
    "!python -m pip install Pillow\n",
    "\n",
    "from PIL import Image # for read, write image\n",
    "import numpy as np # for matrix compute\n",
    "import matplotlib.pyplot as plt # for show image\n",
    "import colorsys # for convert RGB to HSL"
   ],
   "outputs": [
    {
     "name": "stdout",
     "output_type": "stream",
     "text": [
      "Requirement already satisfied: matplotlib in d:\\code\\pycharm\\applied_math\\lab03\\.venv\\lib\\site-packages (3.10.3)\n",
      "Requirement already satisfied: contourpy>=1.0.1 in d:\\code\\pycharm\\applied_math\\lab03\\.venv\\lib\\site-packages (from matplotlib) (1.3.2)\n",
      "Requirement already satisfied: cycler>=0.10 in d:\\code\\pycharm\\applied_math\\lab03\\.venv\\lib\\site-packages (from matplotlib) (0.12.1)\n",
      "Requirement already satisfied: fonttools>=4.22.0 in d:\\code\\pycharm\\applied_math\\lab03\\.venv\\lib\\site-packages (from matplotlib) (4.58.5)\n",
      "Requirement already satisfied: kiwisolver>=1.3.1 in d:\\code\\pycharm\\applied_math\\lab03\\.venv\\lib\\site-packages (from matplotlib) (1.4.8)\n",
      "Requirement already satisfied: numpy>=1.23 in d:\\code\\pycharm\\applied_math\\lab03\\.venv\\lib\\site-packages (from matplotlib) (2.3.1)\n",
      "Requirement already satisfied: packaging>=20.0 in d:\\code\\pycharm\\applied_math\\lab03\\.venv\\lib\\site-packages (from matplotlib) (25.0)\n",
      "Requirement already satisfied: pillow>=8 in d:\\code\\pycharm\\applied_math\\lab03\\.venv\\lib\\site-packages (from matplotlib) (11.3.0)\n",
      "Requirement already satisfied: pyparsing>=2.3.1 in d:\\code\\pycharm\\applied_math\\lab03\\.venv\\lib\\site-packages (from matplotlib) (3.2.3)\n",
      "Requirement already satisfied: python-dateutil>=2.7 in d:\\code\\pycharm\\applied_math\\lab03\\.venv\\lib\\site-packages (from matplotlib) (2.9.0.post0)\n",
      "Requirement already satisfied: six>=1.5 in d:\\code\\pycharm\\applied_math\\lab03\\.venv\\lib\\site-packages (from python-dateutil>=2.7->matplotlib) (1.17.0)\n",
      "Requirement already satisfied: numpy in d:\\code\\pycharm\\applied_math\\lab03\\.venv\\lib\\site-packages (2.3.1)\n",
      "Requirement already satisfied: Pillow in d:\\code\\pycharm\\applied_math\\lab03\\.venv\\lib\\site-packages (11.3.0)\n"
     ]
    }
   ],
   "execution_count": 2
  },
  {
   "cell_type": "markdown",
   "metadata": {},
   "source": [
    "## Helper functions"
   ]
  },
  {
   "cell_type": "code",
   "metadata": {
    "ExecuteTime": {
     "end_time": "2025-07-15T01:08:06.510053Z",
     "start_time": "2025-07-15T01:08:06.496361Z"
    }
   },
   "source": [
    "# Any optional parameters beyond the required ones should be defined with default values\n",
    "def read_img(img_path):\n",
    "\t\"\"\" Read image from img_path\n",
    "\treturns a 2D image (numpy array)\n",
    "\t\"\"\"\n",
    "\treturn np.array(Image.open(img_path))\n",
    "\n",
    "def show_img(img_2d):\n",
    "\t\"\"\" Show image\n",
    "\t\"\"\"\n",
    "\tplt.imshow(img_2d)\n",
    "\tplt.axis('off')\n",
    "\tplt.show()\n",
    "\n",
    "def save_img(img_2d, img_path: str):\n",
    "\t\"\"\"\tSave image to img_path\n",
    "\t\"\"\"\n",
    "\tImage.fromarray(img_2d).save(img_path)\n",
    "\n",
    "def convert_rgb_to_hsl_loop(img_2d):\n",
    "    \"\"\" Convert RGB image to HSL image\n",
    "    returns a 2D image (numpy array)\n",
    "    \"\"\"\n",
    "    norm_img = np.array(img_2d) / 255.0\n",
    "    height, width, _ = norm_img.shape\n",
    "    hsl_array = np.zeros_like(norm_img) # since (h,s,l) shares the same space as (r, g, b)\n",
    "\n",
    "    for i in range(height):\n",
    "        for j in range(width):\n",
    "            r, g, b = norm_img[i, j]\n",
    "            h, l, s = colorsys.rgb_to_hls(r, g, b)\n",
    "            hsl_array[i, j] = [h, s, l]\n",
    "\n",
    "    return hsl_array\n",
    "\n",
    "def convert_hsl_to_rgb_loop(img_2d):\n",
    "    \"\"\" Convert HSL image to RGB image\n",
    "    returns a 2D image (numpy array)\n",
    "    \"\"\"\n",
    "    height, width, _ = img_2d.shape\n",
    "\n",
    "    rgb_array = np.zeros_like(img_2d)\n",
    "\n",
    "    for i in range(height):\n",
    "        for j in range(width):\n",
    "            h, s, l = img_2d[i, j]\n",
    "            r, g, b = colorsys.hls_to_rgb(h, l, s)\n",
    "            rgb_array[i, j] = [r, g, b]\n",
    "\n",
    "    rgb_array = (rgb_array * 255).astype(np.uint8)\n",
    "    return Image.fromarray(rgb_array)\n",
    "\n",
    "def convert_rgb_to_hsl(img_2d):\n",
    "\t\"\"\" Convert RGB image to HSL image\n",
    "\treturns a 2D image (numpy array)\n",
    "\t\"\"\"\n",
    "\tnorm_img = np.array(img_2d) / 255.0\n",
    "\trgb2hsl_vec = np.vectorize(colorsys.rgb_to_hls)\n",
    "\th, l, s = rgb2hsl_vec(norm_img[..., 0], norm_img[..., 1], norm_img[..., 2]) # img[..., 0] means take all previous dim but only the 0 index of the last one. (4, 4, 3) -> (4, 3)\n",
    "\treturn np.stack([h, s, l], axis=-1)\n",
    "\n",
    "def convert_hsl_to_rgb(img_2d):\n",
    "\t\"\"\" Convert HSL image to RGB image\n",
    "\treturns a 2D image (numpy array)\n",
    "\t\"\"\"\n",
    "\thsl2rgb_vec = np.vectorize(colorsys.hls_to_rgb)\n",
    "\tr, g, b = hsl2rgb_vec(img_2d[..., 0], img_2d[..., 1], img_2d[..., 2])\n",
    "\treturn Image.fromarray((np.stack([r, g, b], axis=-1) * 255).astype(np.uint8))\n",
    "\n",
    "def img_change_brightness(img_2d, brightness_factor):\n",
    "\tpass\n",
    "\n",
    "def img_change_contrast(img_2d, contrast_factor):\n",
    "\tpass\n",
    "\n",
    "def img_flip_horizontal(img_2d):\n",
    "\treturn img_2d[:, ::-1]\n",
    "\n",
    "def img_flip_vertical(img_2d):\n",
    "\treturn img_2d[::-1, :]\n",
    "\n",
    "def img_flip_horizontal_vertical(img_2d):\n",
    "\treturn img_2d[::-1, ::-1]\n",
    "\n",
    "def img_crop(img_2d, start: list[int], end: list[int]):\n",
    "\theight, width, _ = img_2d.shape\n",
    "\tx1, x2 = sorted([max(0, min(start[0], width)), max(0, min(end[0], width))])\n",
    "\ty1, y2 = sorted([max(0, min(start[1], height)), max(0, min(end[1], height))])\n",
    "\n",
    "\treturn img_2d[y1:y2, x1:x2, :]\n",
    "\n",
    "def img_crop_quarter_center(img_2d):\n",
    "\theight, width, _ = img_2d.shape\n",
    "\tstart_height, start_width = height // 4, width // 4\n",
    "\treturn img_crop(img_2d, [start_width, start_height], [start_width * 3, start_height * 3])\n",
    "\n",
    "def blank_mask(img_2d):\n",
    "\th, w, c = image.shape\n",
    "\tmasked_image = np.zeros_like(image)\n",
    "\tif c == 4: # if RGBA image, set the mask to opaque\n",
    "\t\tmasked_image[..., 3] = 255\n",
    "\treturn masked_image\n",
    "\n",
    "def img_circle_mask(img_2d):\n",
    "\theight, width, _ = img_2d.shape\n",
    "\tY, X = np.mgrid[0:height, 0:width]\n",
    "\tcx, cy = width // 2, height // 2\n",
    "\tr = min(cx, cx)\n",
    "\n",
    "\tcircle_mask = (X - cx) ** 2 + (Y - cy) ** 2 <= r ** 2\n",
    "\tmask = blank_mask(img_2d)\n",
    "\tmask[circle_mask] = img_2d[circle_mask]\n",
    "\treturn mask\n",
    "\n",
    "def img_2ellipse_mask(img_2d):\n",
    "\theight, width, _ = img_2d.shape\n",
    "\tY, X = np.ogrid[:height, :width]\n",
    "\tdiag = (width * width + height * height) ** 0.5 - 5\n",
    "\n",
    "\ta, b = 0.875 * diag / 2, 0.5 * diag / 2\n",
    "\ttheta = np.deg2rad(45)\n",
    "\n",
    "\t# translate the grid coord to the center\n",
    "\tx = X - w // 2\n",
    "\ty = Y - h // 2\n",
    "\n",
    "\tdef rotated_ellipse_mask(x, y, a, b, theta):\n",
    "\t\tcos_t, sin_t = np.cos(theta), np.sin(theta)\n",
    "\t\tterm1 = ((x * cos_t + y * sin_t) ** 2) / a ** 2\n",
    "\t\tterm2 = ((x * sin_t - y * cos_t) ** 2) / b ** 2\n",
    "\t\treturn (term1 + term2) <= 1\n",
    "\n",
    "\tframe_mask = np.logical_or(rotated_ellipse_mask(x, y, a, b, theta),\n",
    "\t\t\t\t\t\t\t   rotated_ellipse_mask(x, y, a, b, -theta))\n",
    "\n",
    "\tmask = blank_mask(img_2d)\n",
    "\tmasked_image[frame_mask] = image[frame_mask]\n",
    "\n",
    "\n",
    "def process_image(img_2d, func=[1, 2, 3,...]):\n",
    "\t\"\"\" Process image with a list of functions\n",
    "\tfunc: a list of functions to apply to the image\n",
    "\treturn processed 2D image\n",
    "\t\"\"\"\n",
    "\n"
   ],
   "outputs": [],
   "execution_count": 3
  },
  {
   "attachments": {},
   "cell_type": "markdown",
   "metadata": {},
   "source": [
    "## Your tests"
   ]
  },
  {
   "cell_type": "code",
   "metadata": {
    "ExecuteTime": {
     "end_time": "2025-07-15T01:08:06.735021Z",
     "start_time": "2025-07-15T01:08:06.622352Z"
    }
   },
   "source": [
    "# YOUR CODE HERE\n",
    "import numpy as np\n",
    "import matplotlib.pyplot as plt\n",
    "\n",
    "image = read_img(\"cat.jpg\")\n",
    "h, w, c = image.shape\n",
    "\n",
    "Y, X = np.ogrid[:h, :w]\n",
    "cx, cy = w // 2, h // 2\n",
    "r = min(cx, cy)\n",
    "\n",
    "circle_mask = (X - cx) ** 2 + (Y - cy) ** 2 <= r ** 2\n",
    "\n",
    "masked_image = np.zeros_like(image)\n",
    "if c == 4: # if RGBA image, set the mask to opaque\n",
    "\tmasked_image[..., 3] = 255\n",
    "masked_image[circle_mask] = image[circle_mask]\n",
    "\n",
    "save_img(masked_image, \"masked_image.png\")"
   ],
   "outputs": [],
   "execution_count": 4
  },
  {
   "metadata": {
    "ExecuteTime": {
     "end_time": "2025-07-15T01:13:51.254630Z",
     "start_time": "2025-07-15T01:13:51.147204Z"
    }
   },
   "cell_type": "code",
   "source": [
    "Y, X = np.ogrid[:h, :w]\n",
    "diag = (w * w + h * h) ** 0.5 - 5\n",
    "\n",
    "a, b = 0.875 * diag / 2, 0.5 * diag / 2\n",
    "theta = np.deg2rad(45)\n",
    "\n",
    "# translate the grid coord to the center\n",
    "x = X - w // 2\n",
    "y = Y - h // 2\n",
    "\n",
    "def rotated_ellipse_mask(x, y, a, b, theta):\n",
    "    cos_t, sin_t = np.cos(theta), np.sin(theta)\n",
    "    term1 = ((x * cos_t + y * sin_t) ** 2) / a ** 2\n",
    "    term2 = ((x * sin_t - y * cos_t) ** 2) / b ** 2\n",
    "    return (term1 + term2) <= 1\n",
    "\n",
    "frame_mask = np.logical_or(rotated_ellipse_mask(x, y, a, b, theta),\n",
    "\t\t\t\t\t\t   rotated_ellipse_mask(x, y, a, b, -theta))\n",
    "\n",
    "masked_image = np.zeros_like(image)\n",
    "if c == 4: # if RGBA image, set the mask to opaque\n",
    "\tmasked_image[..., 3] = 255\n",
    "masked_image[frame_mask] = image[frame_mask]\n",
    "save_img(masked_image, \"masked_image3.png\")"
   ],
   "outputs": [],
   "execution_count": 16
  },
  {
   "cell_type": "markdown",
   "metadata": {},
   "source": [
    "## Main FUNCTION"
   ]
  },
  {
   "cell_type": "code",
   "metadata": {
    "ExecuteTime": {
     "end_time": "2025-07-15T01:08:07.137672Z",
     "start_time": "2025-07-15T01:08:07.134021Z"
    }
   },
   "source": [
    "# YOUR CODE HERE"
   ],
   "outputs": [],
   "execution_count": 8
  }
 ],
 "metadata": {
  "kernelspec": {
   "display_name": "Python 3",
   "language": "python",
   "name": "python3"
  },
  "language_info": {
   "codemirror_mode": {
    "name": "ipython",
    "version": 3
   },
   "file_extension": ".py",
   "mimetype": "text/x-python",
   "name": "python",
   "nbconvert_exporter": "python",
   "pygments_lexer": "ipython3",
   "version": "3.10.13"
  }
 },
 "nbformat": 4,
 "nbformat_minor": 4
}
